{
 "cells": [
  {
   "cell_type": "markdown",
   "metadata": {},
   "source": [
    "3.2 Handling missing data "
   ]
  },
  {
   "cell_type": "markdown",
   "metadata": {},
   "source": [
    "caused by 1 of 2 reasons <br />\n",
    "1. missing data randomly\n",
    "    - no relationship between missing observation in two/more columns \n",
    "2. not random\n",
    "    - attribute the missing data to a logical reason. \n",
    "    - depressed patients are more likely to leave empty fields in forms "
   ]
  },
  {
   "cell_type": "markdown",
   "metadata": {},
   "source": [
    "3.2.1 handline missing numerical data  <br />\n",
    "    - imputation: replacing missing numerical data with statistical or algorithmic techniques  <br />\n",
    "    - the simpliest way is Complete Case Analysis (CCA)  <br />\n",
    "    - ie, only consider data that has no missing data  <br />"
   ]
  }
 ],
 "metadata": {
  "language_info": {
   "name": "python"
  },
  "orig_nbformat": 4
 },
 "nbformat": 4,
 "nbformat_minor": 2
}
